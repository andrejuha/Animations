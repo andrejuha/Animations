{
  "nbformat": 4,
  "nbformat_minor": 0,
  "metadata": {
    "colab": {
      "name": "mrp.ipynb",
      "provenance": [],
      "include_colab_link": true
    },
    "kernelspec": {
      "name": "python3",
      "display_name": "Python 3"
    }
  },
  "cells": [
    {
      "cell_type": "markdown",
      "metadata": {
        "id": "view-in-github",
        "colab_type": "text"
      },
      "source": [
        "<a href=\"https://colab.research.google.com/github/andrejuha/Animations/blob/master/mrp.ipynb\" target=\"_parent\"><img src=\"https://colab.research.google.com/assets/colab-badge.svg\" alt=\"Open In Colab\"/></a>"
      ]
    },
    {
      "cell_type": "code",
      "metadata": {
        "id": "_TZefME0MTvA"
      },
      "source": [
        "# note this runtime does not require a GPU, so make sure the runtime type is set to CPU to lower your Colab usage"
      ],
      "execution_count": null,
      "outputs": []
    },
    {
      "cell_type": "code",
      "metadata": {
        "id": "jCso_iLT3xGA"
      },
      "source": [
        "# implementation of David Silver's example by @cwkx\n",
        "import numpy as np\n",
        "\n",
        "# initialise the MRP\n",
        "S =          ['c1', 'c2', 'c3', 'pass', 'pub', 'tv', 'sleep']\n",
        "R = np.array([ -2 ,  -2 ,  -2 ,  +10  ,  +1  ,  -1 ,  0     ])\n",
        "P = np.array([\n",
        "    [0.0, 0.5, 0.0, 0.0, 0.0, 0.5, 0.0],\n",
        "    [0.0, 0.0, 0.8, 0.0, 0.0, 0.0, 0.2],\n",
        "    [0.0, 0.0, 0.0, 0.6, 0.4, 0.0, 0.0],\n",
        "    [0.0, 0.0, 0.0, 0.0, 0.0, 0.0, 1.0],\n",
        "    [0.2, 0.4, 0.4, 0.0, 0.0, 0.0, 0.0],\n",
        "    [0.1, 0.0, 0.0, 0.0, 0.0, 0.9, 0.0],\n",
        "    [0.0, 0.0, 0.0, 0.0, 0.0, 0.0, 1.0]\n",
        "    ])\n",
        "gamma = 0.5\n",
        "\n",
        "# check all rows sum to 1\n",
        "assert(np.all(np.sum(P,axis=1) == 1))"
      ],
      "execution_count": null,
      "outputs": []
    },
    {
      "cell_type": "code",
      "metadata": {
        "id": "Pn_wgDz030d0",
        "colab": {
          "base_uri": "https://localhost:8080/",
          "height": 164
        },
        "outputId": "c3c8905e-917f-41bf-a84b-ca2503a45254"
      },
      "source": [
        "# sample an episode from a given state index\n",
        "def sample_episode(P, s=0, log=True):\n",
        "    print_str=S[s] + ', '\n",
        "    episode = [s]\n",
        "    while(S[episode[-1]] != 'sleep'):\n",
        "        episode.append(np.random.choice(len(P),1, p=P[episode[-1]])[0])\n",
        "        print_str += str(S[episode[-1]]) + ', '\n",
        "    if log:\n",
        "        print(print_str)\n",
        "    return np.array(episode)\n",
        "\n",
        "# example episode(s)\n",
        "print('first sample: ')\n",
        "episode = sample_episode(P, s=0)\n",
        "\n",
        "print('\\nsecond sample: ')\n",
        "episode = sample_episode(P, s=0)\n",
        "\n",
        "print('\\nthird sample: ')\n",
        "episode = sample_episode(P, s=0)"
      ],
      "execution_count": null,
      "outputs": [
        {
          "output_type": "stream",
          "text": [
            "first sample: \n",
            "c1, c2, c3, pass, sleep, \n",
            "\n",
            "second sample: \n",
            "c1, c2, sleep, \n",
            "\n",
            "third sample: \n",
            "c1, tv, tv, tv, tv, tv, tv, tv, tv, tv, tv, tv, tv, tv, tv, tv, tv, tv, tv, tv, tv, tv, tv, tv, tv, c1, c2, c3, pub, c3, pass, sleep, \n"
          ],
          "name": "stdout"
        }
      ]
    },
    {
      "cell_type": "code",
      "metadata": {
        "id": "HQIebRDX4O0V",
        "colab": {
          "base_uri": "https://localhost:8080/",
          "height": 495
        },
        "outputId": "38bcd553-7efe-4c31-d63f-0a1f9b64fa03"
      },
      "source": [
        "# example return\n",
        "episode = sample_episode(P, s=0)\n",
        "episode_reward = R[episode] # R_t+1, R_t+2, ...\n",
        "G_t = 0\n",
        "for k in range(0,len(episode)):\n",
        "    G_t += gamma**k * episode_reward[k]\n",
        "    print(\"G_t = {:.4f}, gamma^k = {:.4f}\".format( G_t, gamma**k ))\n",
        "\n",
        "# estimate the value function expectation by monte carlo for a given gamma\n",
        "print(S)"
      ],
      "execution_count": null,
      "outputs": [
        {
          "output_type": "stream",
          "text": [
            "c1, tv, tv, tv, tv, tv, tv, tv, tv, tv, tv, tv, tv, c1, tv, tv, tv, tv, tv, c1, c2, c3, pass, sleep, \n",
            "G_t = -2.0000, gamma^k = 1.0000\n",
            "G_t = -2.5000, gamma^k = 0.5000\n",
            "G_t = -2.7500, gamma^k = 0.2500\n",
            "G_t = -2.8750, gamma^k = 0.1250\n",
            "G_t = -2.9375, gamma^k = 0.0625\n",
            "G_t = -2.9688, gamma^k = 0.0312\n",
            "G_t = -2.9844, gamma^k = 0.0156\n",
            "G_t = -2.9922, gamma^k = 0.0078\n",
            "G_t = -2.9961, gamma^k = 0.0039\n",
            "G_t = -2.9980, gamma^k = 0.0020\n",
            "G_t = -2.9990, gamma^k = 0.0010\n",
            "G_t = -2.9995, gamma^k = 0.0005\n",
            "G_t = -2.9998, gamma^k = 0.0002\n",
            "G_t = -3.0000, gamma^k = 0.0001\n",
            "G_t = -3.0001, gamma^k = 0.0001\n",
            "G_t = -3.0001, gamma^k = 0.0000\n",
            "G_t = -3.0001, gamma^k = 0.0000\n",
            "G_t = -3.0001, gamma^k = 0.0000\n",
            "G_t = -3.0001, gamma^k = 0.0000\n",
            "G_t = -3.0001, gamma^k = 0.0000\n",
            "G_t = -3.0001, gamma^k = 0.0000\n",
            "G_t = -3.0001, gamma^k = 0.0000\n",
            "G_t = -3.0001, gamma^k = 0.0000\n",
            "G_t = -3.0001, gamma^k = 0.0000\n",
            "['c1', 'c2', 'c3', 'pass', 'pub', 'tv', 'sleep']\n"
          ],
          "name": "stdout"
        }
      ]
    },
    {
      "cell_type": "code",
      "metadata": {
        "id": "M-oyjM6T4WAR",
        "colab": {
          "base_uri": "https://localhost:8080/",
          "height": 403
        },
        "outputId": "24ee7e73-6a5d-4272-f9d7-43028796ae64"
      },
      "source": [
        "# solve the value function by iteration\n",
        "V = np.zeros(len(P))\n",
        "num_episodes = 2000\n",
        "for i in range(num_episodes):\n",
        "    for s in range(len(P)):\n",
        "        episode = sample_episode(P, s, log=False)\n",
        "        episode_reward = R[episode]\n",
        "        G_t = 0\n",
        "        for k in range(0,len(episode)):\n",
        "            G_t += gamma**k * episode_reward[k]\n",
        "        V[s] += G_t\n",
        "    if (i+1)%100 == 0:\n",
        "        np.set_printoptions(precision=2)\n",
        "        print(V/(i+1))\n",
        "V = V/num_episodes\n",
        "print(V)"
      ],
      "execution_count": null,
      "outputs": [
        {
          "output_type": "stream",
          "text": [
            "[-2.96 -1.66  1.02 10.    0.58 -2.11  0.  ]\n",
            "[-2.93 -1.63  1.09 10.    0.59 -2.11  0.  ]\n",
            "[-2.92 -1.58  1.13 10.    0.55 -2.1   0.  ]\n",
            "[-2.92 -1.6   1.06 10.    0.57 -2.1   0.  ]\n",
            "[-2.91 -1.6   1.06 10.    0.57 -2.09  0.  ]\n",
            "[-2.9  -1.57  1.04 10.    0.56 -2.09  0.  ]\n",
            "[-2.9  -1.57  1.07 10.    0.58 -2.09  0.  ]\n",
            "[-2.89 -1.56  1.08 10.    0.6  -2.09  0.  ]\n",
            "[-2.9  -1.57  1.15 10.    0.61 -2.09  0.  ]\n",
            "[-2.89 -1.57  1.17 10.    0.62 -2.09  0.  ]\n",
            "[-2.89 -1.56  1.2  10.    0.6  -2.09  0.  ]\n",
            "[-2.9  -1.55  1.14 10.    0.61 -2.09  0.  ]\n",
            "[-2.9  -1.57  1.14 10.    0.6  -2.09  0.  ]\n",
            "[-2.9  -1.56  1.15 10.    0.6  -2.08  0.  ]\n",
            "[-2.9  -1.55  1.14 10.    0.6  -2.08  0.  ]\n",
            "[-2.9  -1.54  1.16 10.    0.59 -2.09  0.  ]\n",
            "[-2.9  -1.54  1.16 10.    0.59 -2.08  0.  ]\n",
            "[-2.9  -1.53  1.16 10.    0.61 -2.08  0.  ]\n",
            "[-2.9  -1.53  1.15 10.    0.6  -2.08  0.  ]\n",
            "[-2.9  -1.53  1.16 10.    0.61 -2.08  0.  ]\n",
            "[-2.9  -1.53  1.16 10.    0.61 -2.08  0.  ]\n"
          ],
          "name": "stdout"
        }
      ]
    },
    {
      "cell_type": "code",
      "metadata": {
        "id": "w8UuYQNYx7m7",
        "colab": {
          "base_uri": "https://localhost:8080/",
          "height": 35
        },
        "outputId": "805af984-cfbf-4dc5-f584-f54574e63ab0"
      },
      "source": [
        "# solve the value function by the Bellman equation\n",
        "I = np.identity(len(P))\n",
        "V = np.linalg.solve(I-gamma*P,R) # stable equivalent of np.dot(np.linalg.inv((I-gamma*P)), R)\n",
        "print(V)"
      ],
      "execution_count": null,
      "outputs": [
        {
          "output_type": "stream",
          "text": [
            "[-2.91 -1.55  1.12 10.    0.62 -2.08  0.  ]\n"
          ],
          "name": "stdout"
        }
      ]
    }
  ]
}